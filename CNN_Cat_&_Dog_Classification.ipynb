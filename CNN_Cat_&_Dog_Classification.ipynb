{
  "nbformat": 4,
  "nbformat_minor": 0,
  "metadata": {
    "colab": {
      "name": "8th Jan - CNN - Cat & Dog Classification.ipynb",
      "provenance": [],
      "collapsed_sections": []
    },
    "kernelspec": {
      "name": "python3",
      "display_name": "Python 3"
    },
    "accelerator": "GPU"
  },
  "cells": [
    {
      "cell_type": "code",
      "metadata": {
        "colab": {
          "base_uri": "https://localhost:8080/"
        },
        "id": "ztngWgi__cKM",
        "outputId": "49a3188f-98e9-4329-d2fe-83898a37b03a"
      },
      "source": [
        "#get access google drive data into google colab\r\n",
        "from google.colab import drive\r\n",
        "drive.mount('/content/drive')"
      ],
      "execution_count": null,
      "outputs": [
        {
          "output_type": "stream",
          "text": [
            "Mounted at /content/drive\n"
          ],
          "name": "stdout"
        }
      ]
    },
    {
      "cell_type": "code",
      "metadata": {
        "colab": {
          "base_uri": "https://localhost:8080/"
        },
        "id": "dmodwTCbAdPI",
        "outputId": "bec07934-78b0-4e5a-f946-3eb307cd916a"
      },
      "source": [
        "from zipfile import ZipFile\r\n",
        "file_name = \"/content/drive/My Drive/dataset_new.zip\"\r\n",
        "with ZipFile(file_name,'r') as zip:\r\n",
        "  zip.extractall()\r\n",
        "  print('finish')"
      ],
      "execution_count": null,
      "outputs": [
        {
          "output_type": "stream",
          "text": [
            "finish\n"
          ],
          "name": "stdout"
        }
      ]
    },
    {
      "cell_type": "code",
      "metadata": {
        "id": "lWZNOkVpBOum"
      },
      "source": [
        "import keras\r\n",
        "from keras.models import Sequential\r\n",
        "from keras.preprocessing.image import ImageDataGenerator\r\n",
        "from keras.layers import Dense, Flatten, Dropout\r\n",
        "from keras.layers import Conv2D, MaxPooling2D\r\n",
        "import numpy as np"
      ],
      "execution_count": null,
      "outputs": []
    },
    {
      "cell_type": "code",
      "metadata": {
        "id": "dObnzeBGCEHf"
      },
      "source": [
        "### Creating model and layers\r\n",
        "model = Sequential();   ## blank model\r\n",
        "# Step 1 - Convolution\r\n",
        "model.add(Conv2D(32,(3,3),input_shape=(64,64,3),activation='relu'))\r\n",
        "model.add(MaxPooling2D(pool_size=(2,2)))\r\n",
        "model.add(Dropout(0.2))\r\n",
        "# Step 1 - Convolution\r\n",
        "model.add(Conv2D(64,(3,3),activation='relu'))\r\n",
        "# Step 2 - Pooling\r\n",
        "model.add(MaxPooling2D(pool_size=(2,2)))\r\n",
        "model.add(Dropout(0.3))\r\n",
        "model.add(Conv2D(128,(3,3),activation='relu'))\r\n",
        "# Step 2 - Pooling\r\n",
        "model.add(MaxPooling2D(pool_size=(2,2)))\r\n",
        "model.add(Dropout(0.4))\r\n",
        "# Step 3 - Flattening\r\n",
        "model.add(Flatten())\r\n",
        "### Hidden and output\r\n",
        "# Step 4 - Full connection\r\n",
        "#model.add(Dense(128, activation='relu'))    ### hidden layer\r\n",
        "model.add(Dense(1, activation='sigmoid'))   ## output layer\r\n",
        "# Compiling the CNN\r\n",
        "model.compile(optimizer ='adam',loss='binary_crossentropy',metrics=['accuracy'])"
      ],
      "execution_count": null,
      "outputs": []
    },
    {
      "cell_type": "code",
      "metadata": {
        "id": "nKRUfzy_CFqM"
      },
      "source": [
        "# https://keras.io/api/preprocessing/image/#imagedatagenerator-class\r\n",
        "\r\n",
        "train_datagen = ImageDataGenerator(rescale = 1./255,\r\n",
        "                                   shear_range = 0.2,\r\n",
        "                                   zoom_range = 0.2,\r\n",
        "                                   horizontal_flip = True)\r\n",
        "test_datagen = ImageDataGenerator(rescale = 1./255,\r\n",
        "                                  shear_range = 0.2,\r\n",
        "                                   zoom_range = 0.2,\r\n",
        "                                   horizontal_flip = True)"
      ],
      "execution_count": null,
      "outputs": []
    },
    {
      "cell_type": "code",
      "metadata": {
        "colab": {
          "base_uri": "https://localhost:8080/"
        },
        "id": "g_dM_B-1CHRZ",
        "outputId": "255f90a4-5851-4231-b038-1bc90fe68f79"
      },
      "source": [
        "training_set = train_datagen.flow_from_directory('/content/dataset_new/training_set',\r\n",
        "                                                 target_size = (64, 64),\r\n",
        "                                                 batch_size = 32,\r\n",
        "                                                 class_mode = 'binary')\r\n",
        "test_set = test_datagen.flow_from_directory('/content/dataset_new/test_set',\r\n",
        "                                            target_size = (64, 64),\r\n",
        "                                            batch_size = 32,\r\n",
        "                                            class_mode = 'binary')"
      ],
      "execution_count": null,
      "outputs": [
        {
          "output_type": "stream",
          "text": [
            "Found 2000 images belonging to 2 classes.\n",
            "Found 500 images belonging to 2 classes.\n"
          ],
          "name": "stdout"
        }
      ]
    },
    {
      "cell_type": "code",
      "metadata": {
        "id": "d-iWQkXBCL8T"
      },
      "source": [
        "model.fit_generator(training_set,\r\n",
        "                         epochs = 200,\r\n",
        "                         steps_per_epoch=2000//32,\r\n",
        "                         validation_steps=500//32,\r\n",
        "                         validation_data = test_set)"
      ],
      "execution_count": null,
      "outputs": []
    },
    {
      "cell_type": "code",
      "metadata": {
        "colab": {
          "base_uri": "https://localhost:8080/"
        },
        "id": "uks05hRLCNqi",
        "outputId": "5c0d03f3-7b4a-4467-a22c-d01220b9b114"
      },
      "source": [
        "import numpy as np\r\n",
        "from keras.preprocessing import image \r\n",
        "test_image = image.load_img('/content/c.jpg',target_size=(64,64))\r\n",
        "test_image = image.img_to_array(test_image)\r\n",
        "test_image = np.expand_dims(test_image,axis=0)  ## flattening\r\n",
        "result = model.predict(test_image)  \r\n",
        "if result[0][0] == 1:\r\n",
        "  prediction = 'dog'\r\n",
        "  print(prediction)\r\n",
        "else:\r\n",
        "  prediction = 'cat'\r\n",
        "  print(prediction)"
      ],
      "execution_count": null,
      "outputs": [
        {
          "output_type": "stream",
          "text": [
            "cat\n"
          ],
          "name": "stdout"
        }
      ]
    },
    {
      "cell_type": "code",
      "metadata": {
        "id": "_ycISTY8OdFz"
      },
      "source": [
        "result"
      ],
      "execution_count": null,
      "outputs": []
    },
    {
      "cell_type": "code",
      "metadata": {
        "id": "sn6uM8O_OiLk"
      },
      "source": [
        ""
      ],
      "execution_count": null,
      "outputs": []
    }
  ]
}