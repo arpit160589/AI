{
  "nbformat": 4,
  "nbformat_minor": 0,
  "metadata": {
    "colab": {
      "name": "Day 24 - Simple Neural Network from Scratch.ipynb",
      "provenance": [],
      "collapsed_sections": []
    },
    "kernelspec": {
      "name": "python3",
      "display_name": "Python 3"
    }
  },
  "cells": [
    {
      "cell_type": "code",
      "metadata": {
        "id": "SS9r2N3D6Gep"
      },
      "source": [
        "import numpy as np"
      ],
      "execution_count": null,
      "outputs": []
    },
    {
      "cell_type": "code",
      "metadata": {
        "id": "ikuglPtK6qKk"
      },
      "source": [
        "x = np.array([[0,1,0],[0,0,1],[1,1,0],[1,0,1]])  ## input\r\n",
        "y = np.array([[1],[0],[1],[0]])  ## actual output"
      ],
      "execution_count": null,
      "outputs": []
    },
    {
      "cell_type": "code",
      "metadata": {
        "colab": {
          "base_uri": "https://localhost:8080/"
        },
        "id": "SDGBRSvG9dfa",
        "outputId": "7be13bf7-a69f-45aa-ce08-2cf22d378723"
      },
      "source": [
        "x"
      ],
      "execution_count": null,
      "outputs": [
        {
          "output_type": "execute_result",
          "data": {
            "text/plain": [
              "array([[0, 1, 0],\n",
              "       [0, 0, 1],\n",
              "       [1, 1, 0],\n",
              "       [1, 0, 1]])"
            ]
          },
          "metadata": {
            "tags": []
          },
          "execution_count": 24
        }
      ]
    },
    {
      "cell_type": "code",
      "metadata": {
        "id": "Q58Q8xwc7HoA",
        "colab": {
          "base_uri": "https://localhost:8080/"
        },
        "outputId": "839fd0ea-b525-43a4-b835-41ec4baa5ac6"
      },
      "source": [
        "## Define Weights\r\n",
        "np.random.seed(10)\r\n",
        "weights = np.random.random((3,1))\r\n",
        "weights"
      ],
      "execution_count": null,
      "outputs": [
        {
          "output_type": "execute_result",
          "data": {
            "text/plain": [
              "array([[0.77132064],\n",
              "       [0.02075195],\n",
              "       [0.63364823]])"
            ]
          },
          "metadata": {
            "tags": []
          },
          "execution_count": 25
        }
      ]
    },
    {
      "cell_type": "code",
      "metadata": {
        "id": "_jkNAmgL7th_",
        "colab": {
          "base_uri": "https://localhost:8080/"
        },
        "outputId": "609b9b16-4bfd-48a1-9469-48ddfe2d9486"
      },
      "source": [
        "## Neuron Mathematical Equation\r\n",
        "sum = 0.02 + np.dot(x,weights)\r\n",
        "sum"
      ],
      "execution_count": null,
      "outputs": [
        {
          "output_type": "execute_result",
          "data": {
            "text/plain": [
              "array([[0.04075195],\n",
              "       [0.65364823],\n",
              "       [0.81207259],\n",
              "       [1.42496888]])"
            ]
          },
          "metadata": {
            "tags": []
          },
          "execution_count": 26
        }
      ]
    },
    {
      "cell_type": "code",
      "metadata": {
        "id": "_CAQ4yn_8G8a"
      },
      "source": [
        "### Activation Function (Sigmoid)\r\n",
        "def sigmoid(x):\r\n",
        "  return 1/(1+np.exp(-x))"
      ],
      "execution_count": null,
      "outputs": []
    },
    {
      "cell_type": "code",
      "metadata": {
        "id": "xeI5fZ3T8tgl",
        "colab": {
          "base_uri": "https://localhost:8080/"
        },
        "outputId": "3ba2e3fc-3bf8-46fb-8f92-b68aedc71e2b"
      },
      "source": [
        "ypred = sigmoid(sum)\r\n",
        "ypred"
      ],
      "execution_count": null,
      "outputs": [
        {
          "output_type": "execute_result",
          "data": {
            "text/plain": [
              "array([[0.51018658],\n",
              "       [0.65783211],\n",
              "       [0.69255099],\n",
              "       [0.8061162 ]])"
            ]
          },
          "metadata": {
            "tags": []
          },
          "execution_count": 28
        }
      ]
    },
    {
      "cell_type": "code",
      "metadata": {
        "id": "6wDrVx2S8y6r",
        "colab": {
          "base_uri": "https://localhost:8080/"
        },
        "outputId": "6cbde7a4-672c-41ec-f377-ede3442f8a19"
      },
      "source": [
        "ypred.round()"
      ],
      "execution_count": null,
      "outputs": [
        {
          "output_type": "execute_result",
          "data": {
            "text/plain": [
              "array([[1.],\n",
              "       [1.],\n",
              "       [1.],\n",
              "       [1.]])"
            ]
          },
          "metadata": {
            "tags": []
          },
          "execution_count": 29
        }
      ]
    },
    {
      "cell_type": "code",
      "metadata": {
        "id": "P4_eNC1w89_m",
        "colab": {
          "base_uri": "https://localhost:8080/"
        },
        "outputId": "76b13112-00ec-43aa-a794-6922f1da4990"
      },
      "source": [
        "sum = 0.02 + np.dot(x,weights)\r\n",
        "ypred = sigmoid(sum)\r\n",
        "error = y - ypred\r\n",
        "error"
      ],
      "execution_count": null,
      "outputs": [
        {
          "output_type": "execute_result",
          "data": {
            "text/plain": [
              "array([[ 0.48981342],\n",
              "       [-0.65783211],\n",
              "       [ 0.30744901],\n",
              "       [-0.8061162 ]])"
            ]
          },
          "metadata": {
            "tags": []
          },
          "execution_count": 30
        }
      ]
    },
    {
      "cell_type": "code",
      "metadata": {
        "id": "dVdx5PKf9N9N"
      },
      "source": [
        "### Function for Gradient Descent\r\n",
        "def gradient(a,x):\r\n",
        "  return a * x * (1-x)"
      ],
      "execution_count": null,
      "outputs": []
    },
    {
      "cell_type": "code",
      "metadata": {
        "id": "hQZG8W4W99AE",
        "colab": {
          "base_uri": "https://localhost:8080/"
        },
        "outputId": "7227c076-8d56-412a-b921-3a802e7bad7e"
      },
      "source": [
        "sum = 0.02 + np.dot(x,weights)\r\n",
        "ypred = sigmoid(sum)\r\n",
        "error = y - ypred\r\n",
        "change_in_weight = gradient(error,ypred)\r\n",
        "weights = weights+np.dot(x.T,change_in_weight)\r\n",
        "error"
      ],
      "execution_count": null,
      "outputs": [
        {
          "output_type": "execute_result",
          "data": {
            "text/plain": [
              "array([[ 0.48981342],\n",
              "       [-0.65783211],\n",
              "       [ 0.30744901],\n",
              "       [-0.8061162 ]])"
            ]
          },
          "metadata": {
            "tags": []
          },
          "execution_count": 32
        }
      ]
    },
    {
      "cell_type": "code",
      "metadata": {
        "id": "qZp9wLRq-LxN"
      },
      "source": [
        "### Training\r\n",
        "for i in range(1000):\r\n",
        "  sum = 0.02 + np.dot(x,weights)\r\n",
        "  ypred = sigmoid(sum)\r\n",
        "  error = y - ypred\r\n",
        "  change_in_weight = gradient(error,ypred)\r\n",
        "  weights = weights+np.dot(x.T,change_in_weight)"
      ],
      "execution_count": null,
      "outputs": []
    },
    {
      "cell_type": "code",
      "metadata": {
        "id": "482nFyoT-h04",
        "colab": {
          "base_uri": "https://localhost:8080/"
        },
        "outputId": "b2e92a2f-24ab-47eb-e7c9-3f7a373719bd"
      },
      "source": [
        "error"
      ],
      "execution_count": null,
      "outputs": [
        {
          "output_type": "execute_result",
          "data": {
            "text/plain": [
              "array([[ 0.01661719],\n",
              "       [-0.01604776],\n",
              "       [ 0.01621209],\n",
              "       [-0.01644883]])"
            ]
          },
          "metadata": {
            "tags": []
          },
          "execution_count": 34
        }
      ]
    },
    {
      "cell_type": "code",
      "metadata": {
        "id": "vJxN5o51-jPz",
        "colab": {
          "base_uri": "https://localhost:8080/"
        },
        "outputId": "621b205d-2e0a-41b1-e21a-e53b8dd4e01c"
      },
      "source": [
        "ypred.round()"
      ],
      "execution_count": null,
      "outputs": [
        {
          "output_type": "execute_result",
          "data": {
            "text/plain": [
              "array([[1.],\n",
              "       [0.],\n",
              "       [1.],\n",
              "       [0.]])"
            ]
          },
          "metadata": {
            "tags": []
          },
          "execution_count": 35
        }
      ]
    },
    {
      "cell_type": "code",
      "metadata": {
        "id": "EuffwgYD-lw8",
        "colab": {
          "base_uri": "https://localhost:8080/"
        },
        "outputId": "e7aa5ed4-416a-4355-8399-46095365596f"
      },
      "source": [
        "weights"
      ],
      "execution_count": null,
      "outputs": [
        {
          "output_type": "execute_result",
          "data": {
            "text/plain": [
              "array([[ 0.02508472],\n",
              "       [ 4.06109077],\n",
              "       [-4.13652734]])"
            ]
          },
          "metadata": {
            "tags": []
          },
          "execution_count": 36
        }
      ]
    },
    {
      "cell_type": "code",
      "metadata": {
        "id": "gxPUzYxt-swb"
      },
      "source": [
        ""
      ],
      "execution_count": null,
      "outputs": []
    }
  ]
}