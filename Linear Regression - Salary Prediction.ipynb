{
 "cells": [
  {
   "cell_type": "code",
   "execution_count": 5,
   "metadata": {},
   "outputs": [],
   "source": [
    "import pandas as pd\n",
    "import matplotlib.pyplot as plt"
   ]
  },
  {
   "cell_type": "code",
   "execution_count": 6,
   "metadata": {},
   "outputs": [
    {
     "data": {
      "text/html": [
       "<div>\n",
       "<style scoped>\n",
       "    .dataframe tbody tr th:only-of-type {\n",
       "        vertical-align: middle;\n",
       "    }\n",
       "\n",
       "    .dataframe tbody tr th {\n",
       "        vertical-align: top;\n",
       "    }\n",
       "\n",
       "    .dataframe thead th {\n",
       "        text-align: right;\n",
       "    }\n",
       "</style>\n",
       "<table border=\"1\" class=\"dataframe\">\n",
       "  <thead>\n",
       "    <tr style=\"text-align: right;\">\n",
       "      <th></th>\n",
       "      <th>YearsExperience</th>\n",
       "      <th>Salary</th>\n",
       "    </tr>\n",
       "  </thead>\n",
       "  <tbody>\n",
       "    <tr>\n",
       "      <td>0</td>\n",
       "      <td>1.1</td>\n",
       "      <td>39343.0</td>\n",
       "    </tr>\n",
       "    <tr>\n",
       "      <td>1</td>\n",
       "      <td>1.3</td>\n",
       "      <td>46205.0</td>\n",
       "    </tr>\n",
       "    <tr>\n",
       "      <td>2</td>\n",
       "      <td>1.5</td>\n",
       "      <td>37731.0</td>\n",
       "    </tr>\n",
       "    <tr>\n",
       "      <td>3</td>\n",
       "      <td>2.0</td>\n",
       "      <td>43525.0</td>\n",
       "    </tr>\n",
       "    <tr>\n",
       "      <td>4</td>\n",
       "      <td>2.2</td>\n",
       "      <td>39891.0</td>\n",
       "    </tr>\n",
       "  </tbody>\n",
       "</table>\n",
       "</div>"
      ],
      "text/plain": [
       "   YearsExperience   Salary\n",
       "0              1.1  39343.0\n",
       "1              1.3  46205.0\n",
       "2              1.5  37731.0\n",
       "3              2.0  43525.0\n",
       "4              2.2  39891.0"
      ]
     },
     "execution_count": 6,
     "metadata": {},
     "output_type": "execute_result"
    }
   ],
   "source": [
    "data = pd.read_csv(\"Salary_Data.csv\")\n",
    "data.head()"
   ]
  },
  {
   "cell_type": "code",
   "execution_count": 7,
   "metadata": {},
   "outputs": [
    {
     "name": "stdout",
     "output_type": "stream",
     "text": [
      "<class 'pandas.core.frame.DataFrame'>\n",
      "RangeIndex: 30 entries, 0 to 29\n",
      "Data columns (total 2 columns):\n",
      "YearsExperience    30 non-null float64\n",
      "Salary             30 non-null float64\n",
      "dtypes: float64(2)\n",
      "memory usage: 608.0 bytes\n"
     ]
    }
   ],
   "source": [
    "data.info()"
   ]
  },
  {
   "cell_type": "code",
   "execution_count": 8,
   "metadata": {},
   "outputs": [
    {
     "data": {
      "text/plain": [
       "array([ 1.1,  1.3,  1.5,  2. ,  2.2,  2.9,  3. ,  3.2,  3.2,  3.7,  3.9,\n",
       "        4. ,  4. ,  4.1,  4.5,  4.9,  5.1,  5.3,  5.9,  6. ,  6.8,  7.1,\n",
       "        7.9,  8.2,  8.7,  9. ,  9.5,  9.6, 10.3, 10.5])"
      ]
     },
     "execution_count": 8,
     "metadata": {},
     "output_type": "execute_result"
    }
   ],
   "source": [
    "x = data['YearsExperience'].values\n",
    "x"
   ]
  },
  {
   "cell_type": "code",
   "execution_count": 9,
   "metadata": {},
   "outputs": [
    {
     "data": {
      "text/plain": [
       "array([ 39343.,  46205.,  37731.,  43525.,  39891.,  56642.,  60150.,\n",
       "        54445.,  64445.,  57189.,  63218.,  55794.,  56957.,  57081.,\n",
       "        61111.,  67938.,  66029.,  83088.,  81363.,  93940.,  91738.,\n",
       "        98273., 101302., 113812., 109431., 105582., 116969., 112635.,\n",
       "       122391., 121872.])"
      ]
     },
     "execution_count": 9,
     "metadata": {},
     "output_type": "execute_result"
    }
   ],
   "source": [
    "y = data['Salary'].values\n",
    "y"
   ]
  },
  {
   "cell_type": "code",
   "execution_count": 10,
   "metadata": {},
   "outputs": [
    {
     "data": {
      "text/plain": [
       "(30,)"
      ]
     },
     "execution_count": 10,
     "metadata": {},
     "output_type": "execute_result"
    }
   ],
   "source": [
    "x.shape"
   ]
  },
  {
   "cell_type": "code",
   "execution_count": 11,
   "metadata": {},
   "outputs": [
    {
     "data": {
      "text/plain": [
       "(30, 1)"
      ]
     },
     "execution_count": 11,
     "metadata": {},
     "output_type": "execute_result"
    }
   ],
   "source": [
    "x = x.reshape(len(x),1)\n",
    "x.shape"
   ]
  },
  {
   "cell_type": "code",
   "execution_count": 12,
   "metadata": {},
   "outputs": [],
   "source": [
    "### Dividing the data into training and testing\n",
    "from sklearn.model_selection import train_test_split\n",
    "xtrain,xtest,ytrain,ytest = train_test_split(x,y,train_size=0.80,random_state=200)"
   ]
  },
  {
   "cell_type": "code",
   "execution_count": 13,
   "metadata": {},
   "outputs": [
    {
     "data": {
      "text/plain": [
       "array([[ 4.1],\n",
       "       [ 6. ],\n",
       "       [ 7.1],\n",
       "       [ 3.2],\n",
       "       [ 2.9],\n",
       "       [ 9.6],\n",
       "       [ 5.3],\n",
       "       [10.3],\n",
       "       [ 6.8],\n",
       "       [ 2. ],\n",
       "       [ 3.2],\n",
       "       [ 1.3],\n",
       "       [ 9. ],\n",
       "       [ 3. ],\n",
       "       [ 4. ],\n",
       "       [ 4.5],\n",
       "       [ 4.9],\n",
       "       [ 4. ],\n",
       "       [ 8.2],\n",
       "       [ 3.9],\n",
       "       [ 2.2],\n",
       "       [ 5.1],\n",
       "       [ 3.7],\n",
       "       [ 9.5]])"
      ]
     },
     "execution_count": 13,
     "metadata": {},
     "output_type": "execute_result"
    }
   ],
   "source": [
    "xtrain"
   ]
  },
  {
   "cell_type": "code",
   "execution_count": 14,
   "metadata": {},
   "outputs": [
    {
     "data": {
      "text/plain": [
       "array([[ 8.7],\n",
       "       [10.5],\n",
       "       [ 1.5],\n",
       "       [ 7.9],\n",
       "       [ 1.1],\n",
       "       [ 5.9]])"
      ]
     },
     "execution_count": 14,
     "metadata": {},
     "output_type": "execute_result"
    }
   ],
   "source": [
    "xtest"
   ]
  },
  {
   "cell_type": "code",
   "execution_count": 15,
   "metadata": {},
   "outputs": [],
   "source": [
    "### Build the model\n",
    "from sklearn.linear_model import LinearRegression\n",
    "model = LinearRegression()"
   ]
  },
  {
   "cell_type": "code",
   "execution_count": 16,
   "metadata": {},
   "outputs": [
    {
     "data": {
      "text/plain": [
       "LinearRegression(copy_X=True, fit_intercept=True, n_jobs=None, normalize=False)"
      ]
     },
     "execution_count": 16,
     "metadata": {},
     "output_type": "execute_result"
    }
   ],
   "source": [
    "### Train the model\n",
    "model.fit(xtrain,ytrain)"
   ]
  },
  {
   "cell_type": "code",
   "execution_count": 17,
   "metadata": {},
   "outputs": [
    {
     "data": {
      "text/plain": [
       "array([108335.56338618, 125509.79795421,  39638.62511404, 100702.57024483,\n",
       "        35822.12854337,  81620.08739146])"
      ]
     },
     "execution_count": 17,
     "metadata": {},
     "output_type": "execute_result"
    }
   ],
   "source": [
    "### Prediction\n",
    "ypred = model.predict(xtest)\n",
    "ypred"
   ]
  },
  {
   "cell_type": "code",
   "execution_count": 18,
   "metadata": {},
   "outputs": [
    {
     "data": {
      "text/plain": [
       "array([109431., 121872.,  37731., 101302.,  39343.,  81363.])"
      ]
     },
     "execution_count": 18,
     "metadata": {},
     "output_type": "execute_result"
    }
   ],
   "source": [
    "ytest"
   ]
  },
  {
   "cell_type": "code",
   "execution_count": 19,
   "metadata": {},
   "outputs": [
    {
     "data": {
      "text/plain": [
       "0.9952429110093546"
      ]
     },
     "execution_count": 19,
     "metadata": {},
     "output_type": "execute_result"
    }
   ],
   "source": [
    "from sklearn.metrics import r2_score\n",
    "r2 = r2_score(ytest,ypred)\n",
    "r2"
   ]
  },
  {
   "cell_type": "code",
   "execution_count": 20,
   "metadata": {},
   "outputs": [
    {
     "data": {
      "image/png": "[encoded data removed]",
      "text/plain": [
       "<Figure size 432x288 with 1 Axes>"
      ]
     },
     "metadata": {
      "needs_background": "light"
     },
     "output_type": "display_data"
    }
   ],
   "source": [
    "plt.scatter(xtest,ytest,color=\"blue\")\n",
    "plt.scatter(xtest,ypred,color=\"red\")\n",
    "plt.plot(xtest,ypred,color=\"green\")\n",
    "plt.show()"
   ]
  },
  {
   "cell_type": "code",
   "execution_count": 21,
   "metadata": {},
   "outputs": [],
   "source": [
    "r2_scores = []\n",
    "for i in range(1,500):\n",
    "    xtrain,xtest,ytrain,ytest = train_test_split(x,y,train_size=0.80,random_state=i)\n",
    "    model = LinearRegression()\n",
    "    model.fit(xtrain,ytrain)\n",
    "    ypred = model.predict(xtest)\n",
    "    r2 = r2_score(ytest,ypred)\n",
    "    r2_scores.append(r2)"
   ]
  },
  {
   "cell_type": "code",
   "execution_count": 22,
   "metadata": {},
   "outputs": [
    {
     "data": {
      "text/plain": [
       "[0.7616681465472094,\n",
       " 0.8886956733784562,\n",
       " 0.9695039421049821,\n",
       " 0.9504404484884268,\n",
       " 0.9439628569611375,\n",
       " 0.9368146227107088,\n",
       " 0.8143022783109007,\n",
       " 0.9631182154839476,\n",
       " 0.9388416537799072,\n",
       " 0.9816423482070253,\n",
       " 0.940882728477622,\n",
       " 0.9429269163491424,\n",
       " 0.9394460269118793,\n",
       " 0.9606215790278543,\n",
       " 0.8697012433817218,\n",
       " 0.7949890249259295,\n",
       " 0.9384744808306155,\n",
       " 0.8864330645841889,\n",
       " 0.9415531751862448,\n",
       " 0.9441299149555877,\n",
       " 0.9398582853702571,\n",
       " 0.8870702615446784,\n",
       " 0.9184170849214232,\n",
       " 0.9520702017424296,\n",
       " 0.9531732818427658,\n",
       " 0.9835849730044816,\n",
       " 0.9636425773684422,\n",
       " 0.9217841352107623,\n",
       " 0.9467172742609804,\n",
       " 0.9944092048209745,\n",
       " 0.8967649524853983,\n",
       " 0.8985995727228404,\n",
       " 0.9350785573211586,\n",
       " 0.9244141448042442,\n",
       " 0.8839476512584652,\n",
       " 0.955021106900739,\n",
       " 0.9778242092591887,\n",
       " 0.972479448737762,\n",
       " 0.9928344802911049,\n",
       " 0.7775083459037235,\n",
       " 0.9802519469633169,\n",
       " 0.9024461774180497,\n",
       " 0.8688045158887867,\n",
       " 0.934951117043928,\n",
       " 0.9250487875802144,\n",
       " 0.9789129767378081,\n",
       " 0.98399193890564,\n",
       " 0.980277279178695,\n",
       " 0.9497670285223545,\n",
       " 0.8824679635169839,\n",
       " 0.9608624689052039,\n",
       " 0.9743646706957547,\n",
       " 0.9501154883629506,\n",
       " 0.9492729968840661,\n",
       " 0.8924137091604106,\n",
       " 0.9804067424885895,\n",
       " 0.8096351469357631,\n",
       " 0.4815220524569873,\n",
       " 0.9547990109846669,\n",
       " 0.9139925364405546,\n",
       " 0.9505222881477348,\n",
       " 0.9719509793938972,\n",
       " 0.9582008985104701,\n",
       " 0.9140067830429536,\n",
       " 0.811270086006565,\n",
       " 0.7782285644532063,\n",
       " 0.9588832495320916,\n",
       " 0.9791787060652751,\n",
       " 0.8711824073761935,\n",
       " 0.9429397733426299,\n",
       " 0.9694792167947474,\n",
       " 0.9562771755752736,\n",
       " 0.981214310330871,\n",
       " 0.9618591691900452,\n",
       " 0.9652242905568414,\n",
       " 0.8468270318540349,\n",
       " 0.9782012346646264,\n",
       " 0.9861836585536035,\n",
       " 0.9806625667591384,\n",
       " 0.9356346952232668,\n",
       " 0.9760426364249574,\n",
       " 0.9561094647440507,\n",
       " 0.953240654259053,\n",
       " 0.9535679874886691,\n",
       " 0.977173992682254,\n",
       " 0.9743110017459554,\n",
       " 0.9534669191518677,\n",
       " 0.9770761663991681,\n",
       " 0.9744265816506664,\n",
       " 0.9676701872390631,\n",
       " 0.5524142829082118,\n",
       " 0.9793995823406392,\n",
       " 0.9682219576297961,\n",
       " 0.9676991009836634,\n",
       " 0.9059754831220264,\n",
       " 0.9359396033635742,\n",
       " 0.9537039102493191,\n",
       " 0.3397513854022739,\n",
       " 0.9102354571044845,\n",
       " 0.9720725422361338,\n",
       " 0.993422386435995,\n",
       " 0.9514303308376894,\n",
       " 0.993951370348244,\n",
       " 0.923551573304823,\n",
       " 0.942305013171397,\n",
       " 0.948036562674564,\n",
       " 0.9167407278644975,\n",
       " 0.9581214060756787,\n",
       " 0.974143810559606,\n",
       " 0.9458719613187272,\n",
       " 0.9140896140716743,\n",
       " 0.9744533591342565,\n",
       " 0.7067080298759723,\n",
       " 0.8969184343196763,\n",
       " 0.9643784690800864,\n",
       " 0.9809041874061502,\n",
       " 0.9624544504513641,\n",
       " 0.9403605009491255,\n",
       " 0.9569237636359414,\n",
       " 0.969201601811706,\n",
       " 0.9426102773227347,\n",
       " 0.8314282027856672,\n",
       " 0.9711590965698117,\n",
       " 0.959425996638188,\n",
       " 0.8853691773789206,\n",
       " 0.9351781113190842,\n",
       " 0.8871370210991901,\n",
       " 0.8816634513963472,\n",
       " 0.9766134443801546,\n",
       " 0.9693237228921455,\n",
       " 0.9628150835061432,\n",
       " 0.9353949018583004,\n",
       " 0.9709691542389867,\n",
       " 0.9035398966004999,\n",
       " 0.9741726420842486,\n",
       " 0.957842520171026,\n",
       " 0.9711354452524612,\n",
       " 0.8694650910857331,\n",
       " 0.9546561177635546,\n",
       " 0.9758329776898194,\n",
       " 0.9450380685152899,\n",
       " 0.9559923177407321,\n",
       " 0.9649336584866021,\n",
       " 0.9448507972795978,\n",
       " 0.8449650000297961,\n",
       " 0.5822280600077009,\n",
       " 0.9478316304839808,\n",
       " 0.9075029901638413,\n",
       " 0.9516106361115769,\n",
       " 0.9596167623070662,\n",
       " 0.9402503517787064,\n",
       " 0.8957631087832572,\n",
       " 0.9145394103280926,\n",
       " 0.9426402309990841,\n",
       " 0.9518369325259827,\n",
       " 0.933793219956961,\n",
       " 0.9843512789791997,\n",
       " 0.9585524727702663,\n",
       " 0.9780987254510393,\n",
       " 0.9621705643828616,\n",
       " 0.949444823144052,\n",
       " 0.9200482925733225,\n",
       " 0.9499456323207299,\n",
       " 0.9555715853779447,\n",
       " 0.8839908155845717,\n",
       " 0.9305836440315953,\n",
       " 0.9932156213730909,\n",
       " 0.9864154376087744,\n",
       " 0.9513552895244858,\n",
       " 0.8773894469882995,\n",
       " 0.960929979295671,\n",
       " 0.9201348920476704,\n",
       " 0.9044203412945566,\n",
       " 0.9614687354107081,\n",
       " 0.9669073401764426,\n",
       " 0.8843691365028532,\n",
       " 0.8976424872331359,\n",
       " 0.9502545043219971,\n",
       " 0.8927546777449028,\n",
       " 0.9629485298775464,\n",
       " 0.7440224096019279,\n",
       " 0.9172878674673552,\n",
       " 0.976156008155332,\n",
       " 0.9685177747353091,\n",
       " 0.8823148255766502,\n",
       " 0.9634854326525794,\n",
       " 0.7788592737857019,\n",
       " 0.9254482470869073,\n",
       " 0.8872094764399351,\n",
       " 0.9478290543549621,\n",
       " 0.9376525545746504,\n",
       " 0.6075719619008022,\n",
       " 0.9407957279953786,\n",
       " 0.9505478201330253,\n",
       " 0.951419220195714,\n",
       " 0.9623404402868286,\n",
       " 0.9680210264507269,\n",
       " 0.9821278944501098,\n",
       " 0.9043638161837544,\n",
       " 0.9952429110093546,\n",
       " 0.9574899187661282,\n",
       " 0.9906524413209954,\n",
       " 0.9482503595698928,\n",
       " 0.9647766965261255,\n",
       " 0.9494339723924751,\n",
       " 0.9157179140109509,\n",
       " 0.9663509078659444,\n",
       " 0.9805909492370417,\n",
       " 0.8767618756965906,\n",
       " 0.9062046482988906,\n",
       " 0.9501209102439497,\n",
       " 0.9515727163406867,\n",
       " 0.9349561564235962,\n",
       " 0.42322027491470726,\n",
       " 0.9628724892712616,\n",
       " 0.8977817993201392,\n",
       " 0.9618961564380782,\n",
       " 0.9653156219786904,\n",
       " 0.9528659580761881,\n",
       " 0.9612823827734808,\n",
       " 0.9329164770976627,\n",
       " 0.976523249176461,\n",
       " 0.9574763758899383,\n",
       " 0.9626667015805849,\n",
       " 0.9387654047932767,\n",
       " 0.9748393431398527,\n",
       " 0.93832129615285,\n",
       " 0.9249320758180194,\n",
       " 0.9390586506255431,\n",
       " 0.9537671927002505,\n",
       " 0.9578955059593178,\n",
       " 0.9821531726157032,\n",
       " 0.8802490427653341,\n",
       " 0.9400380805593752,\n",
       " 0.9506840140225761,\n",
       " 0.9240203987172713,\n",
       " 0.96069794282716,\n",
       " 0.9557364730110924,\n",
       " 0.931543924532029,\n",
       " 0.9545758377518041,\n",
       " 0.9508540777006826,\n",
       " 0.9752893678304031,\n",
       " 0.9694451439354064,\n",
       " 0.9063631622439331,\n",
       " 0.9445465850668773,\n",
       " 0.9422466156971665,\n",
       " 0.9689097172430862,\n",
       " 0.9483473444970703,\n",
       " 0.9677654478381043,\n",
       " 0.8888932290918311,\n",
       " 0.9397924907779216,\n",
       " 0.9702346045953483,\n",
       " 0.9842569785332597,\n",
       " 0.9474569382824548,\n",
       " 0.9401026714509406,\n",
       " 0.9553041067326024,\n",
       " 0.9887014555518095,\n",
       " 0.9249483001266274,\n",
       " 0.9801241683705093,\n",
       " 0.882791320666698,\n",
       " 0.9367908279102948,\n",
       " 0.9437159112219031,\n",
       " 0.9575703835213645,\n",
       " 0.9276186014844053,\n",
       " 0.9094343639020072,\n",
       " 0.8180546128860345,\n",
       " 0.9580711077077905,\n",
       " 0.8629195023134444,\n",
       " 0.8939000539996173,\n",
       " 0.9258011670995567,\n",
       " 0.9723662701717581,\n",
       " 0.9240388343632948,\n",
       " 0.9514218884351788,\n",
       " 0.9286663865985184,\n",
       " 0.915977653412763,\n",
       " 0.934294156342874,\n",
       " 0.8510306040950119,\n",
       " 0.9313387951265095,\n",
       " 0.8962467925227375,\n",
       " 0.8582528171086797,\n",
       " 0.9386936970053862,\n",
       " 0.9644682536114649,\n",
       " 0.9671688815456763,\n",
       " 0.9569677288711765,\n",
       " 0.9686286434665914,\n",
       " 0.9681307377541689,\n",
       " 0.9584963768110079,\n",
       " 0.9284391238003984,\n",
       " 0.8709522316877525,\n",
       " 0.8998260743075643,\n",
       " 0.9828929197755568,\n",
       " 0.913177990512414,\n",
       " 0.9103842809431602,\n",
       " 0.9620915954900193,\n",
       " 0.8224364077189523,\n",
       " 0.9747424830242786,\n",
       " 0.9678780881362677,\n",
       " 0.9771569669145379,\n",
       " 0.923762274049086,\n",
       " -2.175274357832557,\n",
       " 0.9782741040339776,\n",
       " 0.9827282185048205,\n",
       " 0.9832970238943499,\n",
       " 0.9868137587268364,\n",
       " 0.9228797371934636,\n",
       " 0.9241953831328015,\n",
       " 0.9706829077505805,\n",
       " 0.9734828712263711,\n",
       " 0.9668318629149866,\n",
       " 0.9755453723566425,\n",
       " 0.9717199946773938,\n",
       " 0.8952012705427325,\n",
       " 0.9345232296884088,\n",
       " 0.9018764358154756,\n",
       " 0.9553217976056723,\n",
       " 0.961770642601842,\n",
       " 0.9420311956797234,\n",
       " 0.9289407262064421,\n",
       " 0.9655705070629778,\n",
       " 0.9604782062347975,\n",
       " 0.9290148357619183,\n",
       " 0.988024925310538,\n",
       " 0.9421321136934616,\n",
       " 0.984819206023585,\n",
       " 0.9582033915914415,\n",
       " 0.9765888431364822,\n",
       " 0.8523219589927007,\n",
       " 0.9527535376592942,\n",
       " 0.9364773378148156,\n",
       " 0.9750335178364884,\n",
       " 0.9197261800045895,\n",
       " 0.9611092645555072,\n",
       " 0.9421901163257497,\n",
       " 0.9568229413474396,\n",
       " 0.9624934239394792,\n",
       " 0.9442032416197733,\n",
       " 0.9415967828419688,\n",
       " 0.8741621911554218,\n",
       " 0.91879278127018,\n",
       " 0.8777336855392486,\n",
       " 0.7741738018852197,\n",
       " 0.4927649907153494,\n",
       " 0.9174129229623054,\n",
       " 0.913632186052151,\n",
       " 0.9623661311342273,\n",
       " 0.9721335782446513,\n",
       " 0.9452693088190398,\n",
       " 0.94906599049595,\n",
       " 0.9800872513980994,\n",
       " 0.9536200175966912,\n",
       " 0.9839317794607522,\n",
       " 0.9702537977119801,\n",
       " 0.9317041744112311,\n",
       " 0.9711845434063586,\n",
       " 0.9232168583317828,\n",
       " 0.9677797267999915,\n",
       " 0.9364178127970495,\n",
       " 0.9586270780141151,\n",
       " 0.9117865447831565,\n",
       " 0.9072305797372391,\n",
       " 0.9288080716567694,\n",
       " 0.9395304557094496,\n",
       " 0.945592888250152,\n",
       " 0.8663479360216312,\n",
       " 0.90222423303666,\n",
       " 0.9384180729718122,\n",
       " 0.9153822642434364,\n",
       " 0.8640038996961943,\n",
       " 0.9731386892832472,\n",
       " 0.9675044986151415,\n",
       " 0.9763615359455476,\n",
       " 0.7754633680831431,\n",
       " 0.8579028661970862,\n",
       " 0.8178553082974258,\n",
       " 0.9451418283007481,\n",
       " 0.9755336334699206,\n",
       " 0.8927957253962784,\n",
       " -0.12038325518752302,\n",
       " 0.9478327463320066,\n",
       " 0.9149908029824452,\n",
       " 0.965846997843408,\n",
       " 0.9567435049194214,\n",
       " 0.9290982417876945,\n",
       " 0.9060402715057205,\n",
       " 0.9418842526313294,\n",
       " 0.9372279384965194,\n",
       " 0.9722819435903672,\n",
       " 0.9632625173645575,\n",
       " 0.9767388481902819,\n",
       " 0.9329434467250439,\n",
       " 0.9679219660859564,\n",
       " 0.9452313733736595,\n",
       " 0.8492724942099854,\n",
       " 0.9521242959811101,\n",
       " 0.9610021436153754,\n",
       " 0.9201700537747247,\n",
       " 0.8316851791302221,\n",
       " 0.7418275789432849,\n",
       " 0.9417598439045696,\n",
       " 0.9898434390588872,\n",
       " 0.9767827249581711,\n",
       " 0.8885681046263565,\n",
       " 0.939027512368197,\n",
       " 0.9417898937084337,\n",
       " 0.970066617766628,\n",
       " 0.914496375633173,\n",
       " 0.9569552519415893,\n",
       " 0.9506261936336415,\n",
       " 0.9738809199309472,\n",
       " 0.9562936554075491,\n",
       " 0.9521495213183243,\n",
       " 0.9233520431912319,\n",
       " 0.9762981408435532,\n",
       " 0.9362131576104327,\n",
       " 0.9526078313488782,\n",
       " 0.9287582434289873,\n",
       " 0.9149879005916816,\n",
       " 0.9374701392819708,\n",
       " 0.9477399563525247,\n",
       " 0.9823751294462938,\n",
       " 0.9628174543536127,\n",
       " 0.9307783431484524,\n",
       " 0.8405934469306451,\n",
       " 0.9524927528629347,\n",
       " 0.9584993488485485,\n",
       " 0.9696458072304072,\n",
       " 0.9432752536744781,\n",
       " 0.6889784969517632,\n",
       " 0.8872254193412725,\n",
       " 0.9750378291723829,\n",
       " -0.16474183748777427,\n",
       " 0.9433008990265421,\n",
       " 0.9775914736367702,\n",
       " 0.9451642883888033,\n",
       " 0.8459718769645332,\n",
       " 0.9758259120366866,\n",
       " 0.9640496752989668,\n",
       " 0.9632572060781348,\n",
       " 0.9263407268555749,\n",
       " 0.8239534370082879,\n",
       " 0.8808927348644479,\n",
       " 0.9069078118126628,\n",
       " 0.8705324778787957,\n",
       " 0.9203652315176376,\n",
       " 0.9497201211175037,\n",
       " 0.9449143349401226,\n",
       " 0.9694411777911821,\n",
       " 0.8664326770330526,\n",
       " 0.9827173515096721,\n",
       " 0.9584672351750042,\n",
       " 0.9376964418573707,\n",
       " 0.9721574945710459,\n",
       " 0.9305025488469474,\n",
       " 0.93252373511542,\n",
       " 0.9198758699403127,\n",
       " 0.9379586850369461,\n",
       " 0.9627671465013857,\n",
       " 0.9746885156297657,\n",
       " 0.9388776097661393,\n",
       " 0.8022547284289652,\n",
       " 0.9846725654835887,\n",
       " 0.9572487893087314,\n",
       " 0.9774459918785455,\n",
       " 0.8957590637668916,\n",
       " 0.9371022180493387,\n",
       " 0.9628022627176109,\n",
       " 0.9901641327766026,\n",
       " 0.9227907294033851,\n",
       " 0.893435180051926,\n",
       " 0.961671748226427,\n",
       " 0.9626803243941433,\n",
       " 0.9422036608385018,\n",
       " 0.9496469403244371,\n",
       " 0.9280748703099434,\n",
       " 0.9686776645323301,\n",
       " 0.9089645972300915,\n",
       " 0.9200418295723104,\n",
       " 0.9466854541704197,\n",
       " 0.9396761172666035,\n",
       " 0.8928155654093239,\n",
       " 0.9506312178510892,\n",
       " 0.9361846293702508,\n",
       " 0.9670461229645954,\n",
       " 0.9003236750410633,\n",
       " 0.9357786181886607,\n",
       " 0.949229837077689,\n",
       " 0.9672211781816686,\n",
       " 0.4703004176194139,\n",
       " 0.8693981713910438,\n",
       " 0.8049523574997428,\n",
       " 0.9808152835202145,\n",
       " 0.9606849543645315,\n",
       " 0.8921759578899421,\n",
       " 0.9519106868096108,\n",
       " 0.8236978985135598,\n",
       " 0.9446111008218258,\n",
       " 0.9789836285697657,\n",
       " 0.9626062626007694,\n",
       " 0.8272933043147526]"
      ]
     },
     "execution_count": 22,
     "metadata": {},
     "output_type": "execute_result"
    }
   ],
   "source": [
    "r2_scores"
   ]
  },
  {
   "cell_type": "code",
   "execution_count": 23,
   "metadata": {},
   "outputs": [
    {
     "data": {
      "text/plain": [
       "0.9952429110093546"
      ]
     },
     "execution_count": 23,
     "metadata": {},
     "output_type": "execute_result"
    }
   ],
   "source": [
    "max(r2_scores)"
   ]
  },
  {
   "cell_type": "code",
   "execution_count": 24,
   "metadata": {},
   "outputs": [
    {
     "data": {
      "text/plain": [
       "29"
      ]
     },
     "execution_count": 24,
     "metadata": {},
     "output_type": "execute_result"
    }
   ],
   "source": [
    "r2_scores.index(0.9944092048209745)"
   ]
  },
  {
   "cell_type": "code",
   "execution_count": null,
   "metadata": {},
   "outputs": [],
   "source": []
  },
  {
   "cell_type": "code",
   "execution_count": null,
   "metadata": {},
   "outputs": [],
   "source": []
  }
 ],
 "metadata": {
  "kernelspec": {
   "display_name": "Python 3",
   "language": "python",
   "name": "python3"
  },
  "language_info": {
   "codemirror_mode": {
    "name": "ipython",
    "version": 3
   },
   "file_extension": ".py",
   "mimetype": "text/x-python",
   "name": "python",
   "nbconvert_exporter": "python",
   "pygments_lexer": "ipython3",
   "version": "3.7.4"
  }
 },
 "nbformat": 4,
 "nbformat_minor": 4
}
